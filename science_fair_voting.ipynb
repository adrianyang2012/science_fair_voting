{
  "nbformat": 4,
  "nbformat_minor": 0,
  "metadata": {
    "colab": {
      "private_outputs": true,
      "provenance": [],
      "include_colab_link": true
    },
    "kernelspec": {
      "name": "python3",
      "display_name": "Python 3"
    },
    "language_info": {
      "name": "python"
    }
  },
  "cells": [
    {
      "cell_type": "markdown",
      "metadata": {
        "id": "view-in-github",
        "colab_type": "text"
      },
      "source": [
        "<a href=\"https://colab.research.google.com/github/adrianyang2012/science_fair_voting/blob/main/science_fair_voting.ipynb\" target=\"_parent\"><img src=\"https://colab.research.google.com/assets/colab-badge.svg\" alt=\"Open In Colab\"/></a>"
      ]
    },
    {
      "cell_type": "code",
      "execution_count": null,
      "metadata": {
        "id": "hksX4MY6j_9M"
      },
      "outputs": [],
      "source": [
        "#cool\n",
        "import time\n",
        "#                         id name      grade\n",
        "science_fair_canidates = {8:['Adrian',4],\n",
        "                          123:['bob',1],\n",
        "                          200:['steve',1],\n",
        "                          320:['ronald',2],\n",
        "                          }\n",
        "science_fair_votes = {8:0,\n",
        "                      123:0,\n",
        "                      200:0}\n",
        "voted = []\n",
        "def vote(vote_for):\n",
        "  science_fair_votes[vote_for] += 1\n",
        "def sign_up_for_vote(name,voting_for,voted):\n",
        "  if name in voted:\n",
        "    print(\"you can't vote 2 times!\")\n",
        "  else:\n",
        "    try:\n",
        "      vote(voting_for)\n",
        "      print('ok')\n",
        "      return 1\n",
        "    except:\n",
        "      print('that is not a canidate!')\n",
        "def announce_winners():\n",
        "  grade_winners = {0:'no entry for this grade',1:'no entry for this grade',2:'no ventry for this grade',3:'no entry for this grade',4:'no entry for this grade',5:'no entry for this grade',6:'no entry for this grade'}\n",
        "  grade_votes = {0:-1,1:-1,2:-1,3:-1,4:-1,5:-1,6:-1}\n",
        "  final_win = 'science fair not taken yet'\n",
        "  final_vote = -1\n",
        "  for item in science_fair_votes:\n",
        "    if science_fair_votes[item] > grade_votes[science_fair_canidates[item][1]]:\n",
        "      grade_winners[science_fair_canidates[item][1]] = science_fair_canidates[item][0]\n",
        "      grade_votes[science_fair_canidates[item][1]] = science_fair_votes[item]\n",
        "    if science_fair_votes[item] > final_vote:\n",
        "      final_win = science_fair_canidates[item][0]\n",
        "      final_vote = science_fair_votes[item]\n",
        "  li = ['st','nd','rd','th','th','th']\n",
        "  for i in range(0,7):\n",
        "    time.sleep(1)\n",
        "    if i == 0:\n",
        "        print(f'kindergarden winner: {grade_winners[0]}')\n",
        "    else:\n",
        "      print(f'{i}{li[i-1]} grade winner: {grade_winners[i]}')\n",
        "  print('the final winner is ...')\n",
        "  time.sleep(1)\n",
        "  print(final_win + '!' + 'votes:' + str(final_vote))\n",
        "\n"
      ]
    },
    {
      "cell_type": "code",
      "source": [
        "print(\"The princapal needs to setup the science fair and tell the id's\")\n",
        "while True:\n",
        "  print('what is your name(type stop if you are everyone finished voting)')\n",
        "  name = input('type here: ')\n",
        "  if name == 'stop':\n",
        "    break\n",
        "  voting_for_id = int(input('who are you voting for: '))\n",
        "  x = sign_up_for_vote(name,voting_for_id,voted)\n",
        "  if x:\n",
        "    voted.append(name)\n",
        "announce_winners()\n"
      ],
      "metadata": {
        "id": "sHSjnkqCoIJE"
      },
      "execution_count": null,
      "outputs": []
    },
    {
      "cell_type": "code",
      "source": [],
      "metadata": {
        "id": "kFo_uGETKFNa"
      },
      "execution_count": null,
      "outputs": []
    },
    {
      "cell_type": "code",
      "source": [],
      "metadata": {
        "id": "9enf0sVNhQ13"
      },
      "execution_count": null,
      "outputs": []
    },
    {
      "cell_type": "code",
      "source": [
        "20*0.078"
      ],
      "metadata": {
        "id": "rY9n4A8EggSY"
      },
      "execution_count": null,
      "outputs": []
    }
  ]
}